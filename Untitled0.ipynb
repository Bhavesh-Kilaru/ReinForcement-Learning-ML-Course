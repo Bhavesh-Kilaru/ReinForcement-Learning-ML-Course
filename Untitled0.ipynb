{
  "nbformat": 4,
  "nbformat_minor": 0,
  "metadata": {
    "colab": {
      "provenance": [],
      "mount_file_id": "1ndck6S9oxVbA5xc2KKBhfiB6zj7v8EU3",
      "authorship_tag": "ABX9TyNRYGwDXgKWIRCgKMkdZjjT",
      "include_colab_link": true
    },
    "kernelspec": {
      "name": "python3",
      "display_name": "Python 3"
    },
    "language_info": {
      "name": "python"
    }
  },
  "cells": [
    {
      "cell_type": "markdown",
      "metadata": {
        "id": "view-in-github",
        "colab_type": "text"
      },
      "source": [
        "<a href=\"https://colab.research.google.com/github/Bhavesh-Kilaru/ReinForcement-Learning-ML-Course/blob/main/Untitled0.ipynb\" target=\"_parent\"><img src=\"https://colab.research.google.com/assets/colab-badge.svg\" alt=\"Open In Colab\"/></a>"
      ]
    },
    {
      "cell_type": "code",
      "execution_count": 1,
      "metadata": {
        "id": "lDxWwZLx52Ox"
      },
      "outputs": [],
      "source": [
        "import tensorflow_datasets as tfds\n",
        "import tensorflow as tf"
      ]
    },
    {
      "cell_type": "code",
      "source": [
        "tfds.list_builders()"
      ],
      "metadata": {
        "id": "HXRxhD466mmP"
      },
      "execution_count": null,
      "outputs": []
    },
    {
      "cell_type": "code",
      "source": [
        "ds, info = tfds.load('sentiment140', split='train', with_info=True)\n"
      ],
      "metadata": {
        "id": "os2qyxhU7RIm"
      },
      "execution_count": 12,
      "outputs": []
    },
    {
      "cell_type": "code",
      "source": [
        "tfds.as_dataframe(ds.take(4), info)"
      ],
      "metadata": {
        "colab": {
          "base_uri": "https://localhost:8080/",
          "height": 239
        },
        "id": "3k6NP_be9Gr2",
        "outputId": "d9bc638d-a53c-4382-9e87-590698dabb05"
      },
      "execution_count": 13,
      "outputs": [
        {
          "output_type": "execute_result",
          "data": {
            "text/plain": [
              "                              date  polarity        query  \\\n",
              "0  b'Mon Jun 01 18:08:26 PDT 2009'         4  b'NO_QUERY'   \n",
              "1  b'Mon Jun 01 23:55:43 PDT 2009'         0  b'NO_QUERY'   \n",
              "2  b'Mon May 04 06:08:51 PDT 2009'         4  b'NO_QUERY'   \n",
              "3  b'Sun May 31 18:42:57 PDT 2009'         4  b'NO_QUERY'   \n",
              "\n",
              "                                                text               user  \n",
              "0                b\"i'm 10x cooler than all of you! \"       b'katie4593'  \n",
              "1  b'O.kk? Thats weird I cant stop following peop...       b'migaruler'  \n",
              "2  b'what a beautiful day not to got to my first ...  b'ocean_waves301'  \n",
              "3  b\".@HildyGottlieb &amp; I was just saying to M...      b'TerraScene'  "
            ],
            "text/html": [
              "\n",
              "  <div id=\"df-354e0406-fb89-4474-af75-f0aa8b4e6227\">\n",
              "    <div class=\"colab-df-container\">\n",
              "      <style type=\"text/css\">\n",
              "</style>\n",
              "<table id=\"T_efee5_\">\n",
              "  <thead>\n",
              "    <tr>\n",
              "      <th class=\"blank level0\" >&nbsp;</th>\n",
              "      <th class=\"col_heading level0 col0\" >date</th>\n",
              "      <th class=\"col_heading level0 col1\" >polarity</th>\n",
              "      <th class=\"col_heading level0 col2\" >query</th>\n",
              "      <th class=\"col_heading level0 col3\" >text</th>\n",
              "      <th class=\"col_heading level0 col4\" >user</th>\n",
              "    </tr>\n",
              "  </thead>\n",
              "  <tbody>\n",
              "    <tr>\n",
              "      <th id=\"T_efee5_level0_row0\" class=\"row_heading level0 row0\" >0</th>\n",
              "      <td id=\"T_efee5_row0_col0\" class=\"data row0 col0\" >Mon Jun 01 18:08:26 PDT 2009</td>\n",
              "      <td id=\"T_efee5_row0_col1\" class=\"data row0 col1\" >4</td>\n",
              "      <td id=\"T_efee5_row0_col2\" class=\"data row0 col2\" >NO_QUERY</td>\n",
              "      <td id=\"T_efee5_row0_col3\" class=\"data row0 col3\" >i&#x27;m 10x cooler than all of you!</td>\n",
              "      <td id=\"T_efee5_row0_col4\" class=\"data row0 col4\" >katie4593</td>\n",
              "    </tr>\n",
              "    <tr>\n",
              "      <th id=\"T_efee5_level0_row1\" class=\"row_heading level0 row1\" >1</th>\n",
              "      <td id=\"T_efee5_row1_col0\" class=\"data row1 col0\" >Mon Jun 01 23:55:43 PDT 2009</td>\n",
              "      <td id=\"T_efee5_row1_col1\" class=\"data row1 col1\" >0</td>\n",
              "      <td id=\"T_efee5_row1_col2\" class=\"data row1 col2\" >NO_QUERY</td>\n",
              "      <td id=\"T_efee5_row1_col3\" class=\"data row1 col3\" >O.kk? Thats weird I cant stop following people on twitter... I have tons of people to unfollow</td>\n",
              "      <td id=\"T_efee5_row1_col4\" class=\"data row1 col4\" >migaruler</td>\n",
              "    </tr>\n",
              "    <tr>\n",
              "      <th id=\"T_efee5_level0_row2\" class=\"row_heading level0 row2\" >2</th>\n",
              "      <td id=\"T_efee5_row2_col0\" class=\"data row2 col0\" >Mon May 04 06:08:51 PDT 2009</td>\n",
              "      <td id=\"T_efee5_row2_col1\" class=\"data row2 col1\" >4</td>\n",
              "      <td id=\"T_efee5_row2_col2\" class=\"data row2 col2\" >NO_QUERY</td>\n",
              "      <td id=\"T_efee5_row2_col3\" class=\"data row2 col3\" >what a beautiful day not to got to my first class</td>\n",
              "      <td id=\"T_efee5_row2_col4\" class=\"data row2 col4\" >ocean_waves301</td>\n",
              "    </tr>\n",
              "    <tr>\n",
              "      <th id=\"T_efee5_level0_row3\" class=\"row_heading level0 row3\" >3</th>\n",
              "      <td id=\"T_efee5_row3_col0\" class=\"data row3 col0\" >Sun May 31 18:42:57 PDT 2009</td>\n",
              "      <td id=\"T_efee5_row3_col1\" class=\"data row3 col1\" >4</td>\n",
              "      <td id=\"T_efee5_row3_col2\" class=\"data row3 col2\" >NO_QUERY</td>\n",
              "      <td id=\"T_efee5_row3_col3\" class=\"data row3 col3\" >.@HildyGottlieb &amp;amp; I was just saying to Maha&#x27;al yesterday, everything we ever needed to know was in Beatles&#x27; lyrics - you prove my point!</td>\n",
              "      <td id=\"T_efee5_row3_col4\" class=\"data row3 col4\" >TerraScene</td>\n",
              "    </tr>\n",
              "  </tbody>\n",
              "</table>\n",
              "\n",
              "      <button class=\"colab-df-convert\" onclick=\"convertToInteractive('df-354e0406-fb89-4474-af75-f0aa8b4e6227')\"\n",
              "              title=\"Convert this dataframe to an interactive table.\"\n",
              "              style=\"display:none;\">\n",
              "        \n",
              "  <svg xmlns=\"http://www.w3.org/2000/svg\" height=\"24px\"viewBox=\"0 0 24 24\"\n",
              "       width=\"24px\">\n",
              "    <path d=\"M0 0h24v24H0V0z\" fill=\"none\"/>\n",
              "    <path d=\"M18.56 5.44l.94 2.06.94-2.06 2.06-.94-2.06-.94-.94-2.06-.94 2.06-2.06.94zm-11 1L8.5 8.5l.94-2.06 2.06-.94-2.06-.94L8.5 2.5l-.94 2.06-2.06.94zm10 10l.94 2.06.94-2.06 2.06-.94-2.06-.94-.94-2.06-.94 2.06-2.06.94z\"/><path d=\"M17.41 7.96l-1.37-1.37c-.4-.4-.92-.59-1.43-.59-.52 0-1.04.2-1.43.59L10.3 9.45l-7.72 7.72c-.78.78-.78 2.05 0 2.83L4 21.41c.39.39.9.59 1.41.59.51 0 1.02-.2 1.41-.59l7.78-7.78 2.81-2.81c.8-.78.8-2.07 0-2.86zM5.41 20L4 18.59l7.72-7.72 1.47 1.35L5.41 20z\"/>\n",
              "  </svg>\n",
              "      </button>\n",
              "      \n",
              "  <style>\n",
              "    .colab-df-container {\n",
              "      display:flex;\n",
              "      flex-wrap:wrap;\n",
              "      gap: 12px;\n",
              "    }\n",
              "\n",
              "    .colab-df-convert {\n",
              "      background-color: #E8F0FE;\n",
              "      border: none;\n",
              "      border-radius: 50%;\n",
              "      cursor: pointer;\n",
              "      display: none;\n",
              "      fill: #1967D2;\n",
              "      height: 32px;\n",
              "      padding: 0 0 0 0;\n",
              "      width: 32px;\n",
              "    }\n",
              "\n",
              "    .colab-df-convert:hover {\n",
              "      background-color: #E2EBFA;\n",
              "      box-shadow: 0px 1px 2px rgba(60, 64, 67, 0.3), 0px 1px 3px 1px rgba(60, 64, 67, 0.15);\n",
              "      fill: #174EA6;\n",
              "    }\n",
              "\n",
              "    [theme=dark] .colab-df-convert {\n",
              "      background-color: #3B4455;\n",
              "      fill: #D2E3FC;\n",
              "    }\n",
              "\n",
              "    [theme=dark] .colab-df-convert:hover {\n",
              "      background-color: #434B5C;\n",
              "      box-shadow: 0px 1px 3px 1px rgba(0, 0, 0, 0.15);\n",
              "      filter: drop-shadow(0px 1px 2px rgba(0, 0, 0, 0.3));\n",
              "      fill: #FFFFFF;\n",
              "    }\n",
              "  </style>\n",
              "\n",
              "      <script>\n",
              "        const buttonEl =\n",
              "          document.querySelector('#df-354e0406-fb89-4474-af75-f0aa8b4e6227 button.colab-df-convert');\n",
              "        buttonEl.style.display =\n",
              "          google.colab.kernel.accessAllowed ? 'block' : 'none';\n",
              "\n",
              "        async function convertToInteractive(key) {\n",
              "          const element = document.querySelector('#df-354e0406-fb89-4474-af75-f0aa8b4e6227');\n",
              "          const dataTable =\n",
              "            await google.colab.kernel.invokeFunction('convertToInteractive',\n",
              "                                                     [key], {});\n",
              "          if (!dataTable) return;\n",
              "\n",
              "          const docLinkHtml = 'Like what you see? Visit the ' +\n",
              "            '<a target=\"_blank\" href=https://colab.research.google.com/notebooks/data_table.ipynb>data table notebook</a>'\n",
              "            + ' to learn more about interactive tables.';\n",
              "          element.innerHTML = '';\n",
              "          dataTable['output_type'] = 'display_data';\n",
              "          await google.colab.output.renderOutput(dataTable, element);\n",
              "          const docLink = document.createElement('div');\n",
              "          docLink.innerHTML = docLinkHtml;\n",
              "          element.appendChild(docLink);\n",
              "        }\n",
              "      </script>\n",
              "    </div>\n",
              "  </div>\n",
              "  "
            ]
          },
          "metadata": {},
          "execution_count": 13
        }
      ]
    },
    {
      "cell_type": "code",
      "source": [
        "type(ds)"
      ],
      "metadata": {
        "colab": {
          "base_uri": "https://localhost:8080/"
        },
        "id": "HCZ0r0BU_Dcl",
        "outputId": "5928a4a9-62ed-4faf-cecb-b080315c9f50"
      },
      "execution_count": 15,
      "outputs": [
        {
          "output_type": "execute_result",
          "data": {
            "text/plain": [
              "tensorflow.python.data.ops.dataset_ops.PrefetchDataset"
            ]
          },
          "metadata": {},
          "execution_count": 15
        }
      ]
    },
    {
      "cell_type": "code",
      "source": [
        "builder = tfds.builder('sentiment140')\n",
        "info = builder.info\n",
        "print(info)"
      ],
      "metadata": {
        "colab": {
          "base_uri": "https://localhost:8080/"
        },
        "id": "I1S6eV76AUkS",
        "outputId": "380bac1b-1fb3-4470-e90a-98e12e0346bd"
      },
      "execution_count": 17,
      "outputs": [
        {
          "output_type": "stream",
          "name": "stdout",
          "text": [
            "tfds.core.DatasetInfo(\n",
            "    name='sentiment140',\n",
            "    full_name='sentiment140/1.0.0',\n",
            "    description=\"\"\"\n",
            "    Sentiment140 allows you to discover the sentiment of a brand, product, or topic\n",
            "    on Twitter.\n",
            "    \n",
            "    The data is a CSV with emoticons removed. Data file format has 6 fields:\n",
            "    \n",
            "    1.  the polarity of the tweet (0 = negative, 2 = neutral, 4 = positive)\n",
            "    2.  the id of the tweet (2087)\n",
            "    3.  the date of the tweet (Sat May 16 23:58:44 UTC 2009)\n",
            "    4.  the query (lyx). If there is no query, then this value is NO_QUERY.\n",
            "    5.  the user that tweeted (robotickilldozr)\n",
            "    6.  the text of the tweet (Lyx is cool)\n",
            "    \n",
            "    For more information, refer to the paper Twitter Sentiment Classification with\n",
            "    Distant Supervision at\n",
            "    https://cs.stanford.edu/people/alecmgo/papers/TwitterDistantSupervision09.pdf\n",
            "    \"\"\",\n",
            "    homepage='http://help.sentiment140.com/home',\n",
            "    data_path='/root/tensorflow_datasets/sentiment140/1.0.0',\n",
            "    file_format=tfrecord,\n",
            "    download_size=77.59 MiB,\n",
            "    dataset_size=305.13 MiB,\n",
            "    features=FeaturesDict({\n",
            "        'date': Text(shape=(), dtype=string),\n",
            "        'polarity': int32,\n",
            "        'query': Text(shape=(), dtype=string),\n",
            "        'text': Text(shape=(), dtype=string),\n",
            "        'user': Text(shape=(), dtype=string),\n",
            "    }),\n",
            "    supervised_keys=('text', 'polarity'),\n",
            "    disable_shuffling=False,\n",
            "    splits={\n",
            "        'test': <SplitInfo num_examples=498, num_shards=1>,\n",
            "        'train': <SplitInfo num_examples=1600000, num_shards=4>,\n",
            "    },\n",
            "    citation=\"\"\"@ONLINE {Sentiment140,\n",
            "        author = \"Go, Alec and Bhayani, Richa and Huang, Lei\",\n",
            "        title  = \"Twitter Sentiment Classification using Distant Supervision\",\n",
            "        year   = \"2009\",\n",
            "        url    = \"http://help.sentiment140.com/home\"\n",
            "    }\"\"\",\n",
            ")\n"
          ]
        }
      ]
    },
    {
      "cell_type": "code",
      "source": [
        "!git clone https://github.com/Bhavesh-Kilaru/Kilaru_OUDSA5900.git"
      ],
      "metadata": {
        "colab": {
          "base_uri": "https://localhost:8080/"
        },
        "id": "Rzza414iDmsG",
        "outputId": "20c8f16f-2b79-4c6d-9b73-58bae2001acb"
      },
      "execution_count": 19,
      "outputs": [
        {
          "output_type": "stream",
          "name": "stdout",
          "text": [
            "Cloning into 'Kilaru_OUDSA5900'...\n",
            "fatal: could not read Username for 'https://github.com': No such device or address\n"
          ]
        }
      ]
    },
    {
      "cell_type": "code",
      "source": [
        "!cp drive/MyDrive/Practicum/Git_SSH* /root/.ssh"
      ],
      "metadata": {
        "colab": {
          "base_uri": "https://localhost:8080/"
        },
        "id": "Gza8WLvHEV5Q",
        "outputId": "f32ff553-04a4-498d-d860-4a46d7422d2f"
      },
      "execution_count": 29,
      "outputs": [
        {
          "output_type": "stream",
          "name": "stdout",
          "text": [
            "cp: target '/root/.ssh' is not a directory\n"
          ]
        }
      ]
    },
    {
      "cell_type": "code",
      "source": [
        "!ls"
      ],
      "metadata": {
        "colab": {
          "base_uri": "https://localhost:8080/"
        },
        "id": "SC9JUu7PG8h1",
        "outputId": "3e374947-9559-4eb2-d7f4-8708b4d9b0fa"
      },
      "execution_count": 26,
      "outputs": [
        {
          "output_type": "stream",
          "name": "stdout",
          "text": [
            "drive  sample_data\n"
          ]
        }
      ]
    }
  ]
}